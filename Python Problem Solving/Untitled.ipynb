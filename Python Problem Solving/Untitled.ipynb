{
 "cells": [
  {
   "cell_type": "code",
   "execution_count": 2,
   "metadata": {},
   "outputs": [
    {
     "name": "stdout",
     "output_type": "stream",
     "text": [
      "  Patient   AdminDate          Drug\n",
      "0    A123  2014-01-01           5FU\n",
      "1    A123  2014-01-02  fluorouracil\n",
      "2    B456  1990-06-01  fluorouracil\n",
      "3    A123  2014-01-02   oxaliplatin\n",
      "4    B456  1990-06-01   oxaliplatin\n",
      "5    A125  2014-01-02  fluorouracil\n"
     ]
    }
   ],
   "source": [
    "import pandas as pd\n",
    "from collections import namedtuple\n",
    "\n",
    "# Item = namedtuple('Patient', 'AdminDate','Drug')\n",
    "# items = []\n",
    "\n",
    "df = pd.read_csv('/Users/prateekmasali/Desktop/data.txt', sep=\",\", names=['Patient', 'AdminDate','Drug'])\n",
    "\n",
    "print(df)"
   ]
  },
  {
   "cell_type": "code",
   "execution_count": 10,
   "metadata": {},
   "outputs": [
    {
     "data": {
      "text/html": [
       "<div>\n",
       "<style scoped>\n",
       "    .dataframe tbody tr th:only-of-type {\n",
       "        vertical-align: middle;\n",
       "    }\n",
       "\n",
       "    .dataframe tbody tr th {\n",
       "        vertical-align: top;\n",
       "    }\n",
       "\n",
       "    .dataframe thead th {\n",
       "        text-align: right;\n",
       "    }\n",
       "</style>\n",
       "<table border=\"1\" class=\"dataframe\">\n",
       "  <thead>\n",
       "    <tr style=\"text-align: right;\">\n",
       "      <th></th>\n",
       "      <th>Patient</th>\n",
       "      <th>AdminDate</th>\n",
       "      <th>Drug</th>\n",
       "    </tr>\n",
       "  </thead>\n",
       "  <tbody>\n",
       "    <tr>\n",
       "      <th>0</th>\n",
       "      <td>A123</td>\n",
       "      <td>2014-01-01</td>\n",
       "      <td>5FU</td>\n",
       "    </tr>\n",
       "    <tr>\n",
       "      <th>1</th>\n",
       "      <td>A123</td>\n",
       "      <td>2014-01-02</td>\n",
       "      <td>fluorouracil</td>\n",
       "    </tr>\n",
       "    <tr>\n",
       "      <th>2</th>\n",
       "      <td>B456</td>\n",
       "      <td>1990-06-01</td>\n",
       "      <td>fluorouracil</td>\n",
       "    </tr>\n",
       "    <tr>\n",
       "      <th>3</th>\n",
       "      <td>A123</td>\n",
       "      <td>2014-01-02</td>\n",
       "      <td>oxaliplatin</td>\n",
       "    </tr>\n",
       "    <tr>\n",
       "      <th>4</th>\n",
       "      <td>B456</td>\n",
       "      <td>1990-06-01</td>\n",
       "      <td>oxaliplatin</td>\n",
       "    </tr>\n",
       "    <tr>\n",
       "      <th>5</th>\n",
       "      <td>A125</td>\n",
       "      <td>2014-01-02</td>\n",
       "      <td>fluorouracil</td>\n",
       "    </tr>\n",
       "  </tbody>\n",
       "</table>\n",
       "</div>"
      ],
      "text/plain": [
       "  Patient   AdminDate          Drug\n",
       "0    A123  2014-01-01           5FU\n",
       "1    A123  2014-01-02  fluorouracil\n",
       "2    B456  1990-06-01  fluorouracil\n",
       "3    A123  2014-01-02   oxaliplatin\n",
       "4    B456  1990-06-01   oxaliplatin\n",
       "5    A125  2014-01-02  fluorouracil"
      ]
     },
     "execution_count": 10,
     "metadata": {},
     "output_type": "execute_result"
    }
   ],
   "source": [
    "df = df.drop_duplicates()\n",
    "df # removing all the duplicated (if any) from a single day for the same patient with same drug"
   ]
  },
  {
   "cell_type": "code",
   "execution_count": 41,
   "metadata": {},
   "outputs": [
    {
     "data": {
      "text/html": [
       "<div>\n",
       "<style scoped>\n",
       "    .dataframe tbody tr th:only-of-type {\n",
       "        vertical-align: middle;\n",
       "    }\n",
       "\n",
       "    .dataframe tbody tr th {\n",
       "        vertical-align: top;\n",
       "    }\n",
       "\n",
       "    .dataframe thead th {\n",
       "        text-align: right;\n",
       "    }\n",
       "</style>\n",
       "<table border=\"1\" class=\"dataframe\">\n",
       "  <thead>\n",
       "    <tr style=\"text-align: right;\">\n",
       "      <th></th>\n",
       "      <th></th>\n",
       "      <th></th>\n",
       "    </tr>\n",
       "    <tr>\n",
       "      <th>Patient</th>\n",
       "      <th>AdminDate</th>\n",
       "      <th>Drug</th>\n",
       "    </tr>\n",
       "  </thead>\n",
       "  <tbody>\n",
       "    <tr>\n",
       "      <th rowspan=\"3\" valign=\"top\">A123</th>\n",
       "      <th>2014-01-01</th>\n",
       "      <th>5FU</th>\n",
       "    </tr>\n",
       "    <tr>\n",
       "      <th rowspan=\"2\" valign=\"top\">2014-01-02</th>\n",
       "      <th>fluorouracil</th>\n",
       "    </tr>\n",
       "    <tr>\n",
       "      <th>oxaliplatin</th>\n",
       "    </tr>\n",
       "    <tr>\n",
       "      <th>A125</th>\n",
       "      <th>2014-01-02</th>\n",
       "      <th>fluorouracil</th>\n",
       "    </tr>\n",
       "    <tr>\n",
       "      <th rowspan=\"2\" valign=\"top\">B456</th>\n",
       "      <th rowspan=\"2\" valign=\"top\">1990-06-01</th>\n",
       "      <th>fluorouracil</th>\n",
       "    </tr>\n",
       "    <tr>\n",
       "      <th>oxaliplatin</th>\n",
       "    </tr>\n",
       "  </tbody>\n",
       "</table>\n",
       "</div>"
      ],
      "text/plain": [
       "Empty DataFrame\n",
       "Columns: []\n",
       "Index: [(A123, 2014-01-01, 5FU), (A123, 2014-01-02, fluorouracil), (A123, 2014-01-02, oxaliplatin), (A125, 2014-01-02, fluorouracil), (B456, 1990-06-01, fluorouracil), (B456, 1990-06-01, oxaliplatin)]"
      ]
     },
     "execution_count": 41,
     "metadata": {},
     "output_type": "execute_result"
    }
   ],
   "source": [
    "df1 = df.groupby(['Patient','AdminDate','Drug']).count()\n",
    "df1 # for visualizing for a single patient on a specific AdminDate, what all Drugs were taken"
   ]
  },
  {
   "cell_type": "code",
   "execution_count": 42,
   "metadata": {},
   "outputs": [
    {
     "data": {
      "text/plain": [
       "Patient  AdminDate \n",
       "A123     2014-01-01    1\n",
       "         2014-01-02    2\n",
       "A125     2014-01-02    1\n",
       "B456     1990-06-01    2\n",
       "dtype: int64"
      ]
     },
     "execution_count": 42,
     "metadata": {},
     "output_type": "execute_result"
    }
   ],
   "source": [
    "df2 = df.groupby(['Patient','AdminDate']).size()\n",
    "df2"
   ]
  },
  {
   "cell_type": "code",
   "execution_count": 47,
   "metadata": {},
   "outputs": [
    {
     "name": "stdout",
     "output_type": "stream",
     "text": [
      "Drug                5FU  fluorouracil  oxaliplatin\n",
      "Patient AdminDate                                 \n",
      "A123    2014-01-01    1             0            0\n",
      "        2014-01-02    0             1            1\n",
      "A125    2014-01-02    0             1            0\n",
      "B456    1990-06-01    0             1            1\n"
     ]
    }
   ],
   "source": [
    "df3 = df.groupby(['Patient','AdminDate','Drug']).size().unstack(fill_value=0)\n",
    "print (df3)"
   ]
  },
  {
   "cell_type": "code",
   "execution_count": 53,
   "metadata": {},
   "outputs": [
    {
     "data": {
      "text/html": [
       "<div>\n",
       "<style scoped>\n",
       "    .dataframe tbody tr th:only-of-type {\n",
       "        vertical-align: middle;\n",
       "    }\n",
       "\n",
       "    .dataframe tbody tr th {\n",
       "        vertical-align: top;\n",
       "    }\n",
       "\n",
       "    .dataframe thead th {\n",
       "        text-align: right;\n",
       "    }\n",
       "</style>\n",
       "<table border=\"1\" class=\"dataframe\">\n",
       "  <thead>\n",
       "    <tr style=\"text-align: right;\">\n",
       "      <th></th>\n",
       "      <th>Drug</th>\n",
       "      <th>5FU</th>\n",
       "      <th>fluorouracil</th>\n",
       "      <th>oxaliplatin</th>\n",
       "    </tr>\n",
       "    <tr>\n",
       "      <th>Patient</th>\n",
       "      <th>AdminDate</th>\n",
       "      <th></th>\n",
       "      <th></th>\n",
       "      <th></th>\n",
       "    </tr>\n",
       "  </thead>\n",
       "  <tbody>\n",
       "    <tr>\n",
       "      <th rowspan=\"2\" valign=\"top\">A123</th>\n",
       "      <th>2014-01-01</th>\n",
       "      <td>1</td>\n",
       "      <td>0</td>\n",
       "      <td>0</td>\n",
       "    </tr>\n",
       "    <tr>\n",
       "      <th>2014-01-02</th>\n",
       "      <td>0</td>\n",
       "      <td>1</td>\n",
       "      <td>1</td>\n",
       "    </tr>\n",
       "    <tr>\n",
       "      <th>A125</th>\n",
       "      <th>2014-01-02</th>\n",
       "      <td>0</td>\n",
       "      <td>1</td>\n",
       "      <td>0</td>\n",
       "    </tr>\n",
       "    <tr>\n",
       "      <th>B456</th>\n",
       "      <th>1990-06-01</th>\n",
       "      <td>0</td>\n",
       "      <td>1</td>\n",
       "      <td>1</td>\n",
       "    </tr>\n",
       "  </tbody>\n",
       "</table>\n",
       "</div>"
      ],
      "text/plain": [
       "Drug                5FU  fluorouracil  oxaliplatin\n",
       "Patient AdminDate                                 \n",
       "A123    2014-01-01    1             0            0\n",
       "        2014-01-02    0             1            1\n",
       "A125    2014-01-02    0             1            0\n",
       "B456    1990-06-01    0             1            1"
      ]
     },
     "execution_count": 53,
     "metadata": {},
     "output_type": "execute_result"
    }
   ],
   "source": [
    "df3"
   ]
  },
  {
   "cell_type": "code",
   "execution_count": null,
   "metadata": {},
   "outputs": [],
   "source": []
  }
 ],
 "metadata": {
  "kernelspec": {
   "display_name": "Python 3",
   "language": "python",
   "name": "python3"
  },
  "language_info": {
   "codemirror_mode": {
    "name": "ipython",
    "version": 3
   },
   "file_extension": ".py",
   "mimetype": "text/x-python",
   "name": "python",
   "nbconvert_exporter": "python",
   "pygments_lexer": "ipython3",
   "version": "3.7.1"
  }
 },
 "nbformat": 4,
 "nbformat_minor": 2
}
